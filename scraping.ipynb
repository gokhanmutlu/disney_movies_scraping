{
 "cells": [
  {
   "cell_type": "markdown",
   "metadata": {},
   "source": [
    "## Scrape Disney Movie Data From Wikipedia"
   ]
  },
  {
   "cell_type": "markdown",
   "metadata": {},
   "source": [
    "Import Necesseray Libraries"
   ]
  },
  {
   "cell_type": "code",
   "execution_count": 6,
   "metadata": {},
   "outputs": [],
   "source": [
    "from bs4 import BeautifulSoup\n",
    "import requests"
   ]
  },
  {
   "cell_type": "markdown",
   "metadata": {},
   "source": [
    "Load the webpage"
   ]
  },
  {
   "cell_type": "markdown",
   "metadata": {},
   "source": [
    "### Get info box for all movies "
   ]
  },
  {
   "cell_type": "code",
   "execution_count": 7,
   "metadata": {},
   "outputs": [],
   "source": [
    "##Clean up references tags [1], [2]\n",
    "def clean_tags(soup):\n",
    "    for tag in soup.find_all([\"sup\", \"span\"]):\n",
    "        tag.decompose()\n",
    "\n",
    "\n",
    "def get_content_value(row_data):\n",
    "    if row_data.find(\"li\"):\n",
    "        return [li.get_text(\" \", strip=True).replace(\"\\xa0\", \" \") for li in row_data.find_all(\"li\")]\n",
    "    elif row_data.find(\"br\"):\n",
    "        return [text for text in row_data.stripped_strings]\n",
    "    else:\n",
    "        return row_data.get_text(\" \", strip=True).replace(\"\\xa0\", \" \")\n",
    "\n",
    "def get_info_box(url):\n",
    "    \n",
    "    page = requests.get(url)\n",
    "    soup = BeautifulSoup(page.text, \"html.parser\")\n",
    "\n",
    "    info_box = soup.find(attrs={\"class\" : \"infobox vevent\"})\n",
    "    info_rows = info_box.find_all(\"tr\")\n",
    "\n",
    "    clean_tags(soup)\n",
    "\n",
    "    movie_info = {}\n",
    "    for index, row in enumerate(info_rows):\n",
    "        if index == 0:\n",
    "            movie_info[\"title\"] = row.find(\"th\").get_text(\" \", strip=True)\n",
    "        else:\n",
    "            header = row.find(\"th\")\n",
    "            if header:\n",
    "                content_key = row.find(\"th\").get_text(\" \", strip=True)\n",
    "                content_value = get_content_value(row.find(\"td\"))\n",
    "                movie_info[content_key] = content_value\n",
    "\n",
    "    return movie_info"
   ]
  },
  {
   "cell_type": "code",
   "execution_count": null,
   "metadata": {},
   "outputs": [],
   "source": [
    "main_page = requests.get(\"https://en.wikipedia.org/wiki/List_of_Walt_Disney_Pictures_films\")\n",
    "soup_main = BeautifulSoup(main_page.text, \"html.parser\")\n",
    "movies = soup_main.select(\".wikitable.sortable i a\")\n",
    "\n",
    "base_path = \"https://en.wikipedia.org/\"\n",
    "\n",
    "movie_info_list = []\n",
    "for index, movie in enumerate(movies):\n",
    "    if index % 10 == 0:\n",
    "        print(index)\n",
    "    try:\n",
    "        relative_path = movie[\"href\"]\n",
    "        full_path = base_path + relative_path\n",
    "        title = movie[\"title\"]\n",
    "\n",
    "        movie_info_list.append(get_info_box(full_path))\n",
    "\n",
    "    except Exception as e:\n",
    "        print(movie.get_text())\n",
    "        print(e)\n",
    "\n"
   ]
  },
  {
   "cell_type": "code",
   "execution_count": null,
   "metadata": {},
   "outputs": [
    {
     "data": {
      "text/plain": [
       "548"
      ]
     },
     "execution_count": 48,
     "metadata": {},
     "output_type": "execute_result"
    }
   ],
   "source": [
    "len(movie_info_list)"
   ]
  },
  {
   "cell_type": "code",
   "execution_count": 23,
   "metadata": {},
   "outputs": [],
   "source": [
    "import json\n",
    "def save_data(title, data):\n",
    "    with open(title, \"w\", encoding=\"utf-8\") as f:\n",
    "        json.dump(data, f, ensure_ascii=False, indent=2)\n",
    "\n",
    "def load_data(title):\n",
    "    with open(title, encoding=\"utf-8\") as f:\n",
    "        return json.load(f)"
   ]
  },
  {
   "cell_type": "code",
   "execution_count": null,
   "metadata": {},
   "outputs": [],
   "source": [
    "save_data(\"disney_data_cleaned.json\", movie_info_list)"
   ]
  },
  {
   "cell_type": "markdown",
   "metadata": {},
   "source": [
    "### Clean data"
   ]
  },
  {
   "cell_type": "markdown",
   "metadata": {},
   "source": [
    "#### Subtasks\n",
    "    - ~Clean up references [1]~\n",
    "    - ~~Conver running time into an integer~~\n",
    "    - Convert dates into datetime object\n",
    "    - ~~Split up the long strings~~\n",
    "    - Convert Budget & Box Office to numbers"
   ]
  },
  {
   "cell_type": "code",
   "execution_count": 9,
   "metadata": {},
   "outputs": [],
   "source": [
    "movie_info_list = load_data(\"disney_data_cleaned.json\")"
   ]
  },
  {
   "cell_type": "code",
   "execution_count": 10,
   "metadata": {},
   "outputs": [],
   "source": [
    "## running time to int\n",
    "def minutes_to_integer(running_time):\n",
    "    if running_time == \"N/A\":\n",
    "        return None\n",
    "    \n",
    "    if isinstance(running_time, list):\n",
    "        return int(running_time[0].split(\" \")[0])\n",
    "    else:\n",
    "        return int(running_time.split(\" \")[0])\n",
    "    \n",
    "for movie in movie_info_list:\n",
    "    movie[\"Running_time_int\"] = minutes_to_integer(movie.get(\"Running time\", \"N/A\"))"
   ]
  },
  {
   "cell_type": "code",
   "execution_count": 11,
   "metadata": {},
   "outputs": [
    {
     "data": {
      "text/plain": [
       "{'title': 'The Hunchback of Notre Dame',\n",
       " 'Directed by': ['Gary Trousdale', 'Kirk Wise'],\n",
       " 'Screenplay by': ['Tab Murphy',\n",
       "  'Irene Mecchi',\n",
       "  'Bob Tzudiker',\n",
       "  'Noni White',\n",
       "  'Jonathan Roberts'],\n",
       " 'Story by': 'Tab Murphy',\n",
       " 'Based on': ['The Hunchback of Notre-Dame', 'by', 'Victor Hugo'],\n",
       " 'Produced by': 'Don Hahn',\n",
       " 'Starring': ['Tom Hulce',\n",
       "  'Demi Moore',\n",
       "  'Tony Jay',\n",
       "  'Kevin Kline',\n",
       "  'Paul Kandel',\n",
       "  'Jason Alexander',\n",
       "  'Charles Kimbrough',\n",
       "  'Mary Wickes',\n",
       "  'David Ogden Stiers'],\n",
       " 'Edited by': 'Ellen Keneshea',\n",
       " 'Music by': 'Alan Menken',\n",
       " 'Production company': 'Walt Disney Feature Animation',\n",
       " 'Distributed by': 'Buena Vista Pictures Distribution',\n",
       " 'Release dates': ['June 19, 1996 ( Louisiana Superdome )',\n",
       "  'June 21, 1996 (United States)'],\n",
       " 'Running time': '91 minutes',\n",
       " 'Country': 'United States',\n",
       " 'Language': 'English',\n",
       " 'Budget': '$70 million',\n",
       " 'Box office': '$325.3 million',\n",
       " 'Running_time_int': 91}"
      ]
     },
     "execution_count": 11,
     "metadata": {},
     "output_type": "execute_result"
    }
   ],
   "source": [
    "movie_info_list[-10]"
   ]
  },
  {
   "cell_type": "code",
   "execution_count": 12,
   "metadata": {},
   "outputs": [],
   "source": [
    "##Convert budget to numeric\n",
    "import re\n",
    "\n",
    "amounts = r\"thousand|million|billion\"\n",
    "number = r\"\\d+(,\\d{3})*\\.*\\d*\"\n",
    "\n",
    "word_re = rf\"\\${number}(-|\\sto\\s|—)?({number})?\\s({amounts})\"\n",
    "value_re = rf\"\\${number}\"\n",
    "\n",
    "def word_to_value(word):\n",
    "    value_dict = {\"thousand\": 1000, \"million\": 1000000, \"billion\": 1000000000}\n",
    "    return value_dict[word]\n",
    "\n",
    "def parse_word_syntax(string):\n",
    "    value_string = re.search(number, string).group()\n",
    "    value = float(value_string.replace(\",\", \"\"))\n",
    "    word = re.search(amounts, string, flags=re.I).group().lower()\n",
    "    word_value = word_to_value(word)\n",
    "    return value * word_value\n",
    "\n",
    "def parse_value_syntax(string):\n",
    "    value_string = re.search(number, string).group()\n",
    "    value = float(value_string.replace(\",\", \"\"))\n",
    "    return value\n",
    "\n",
    "def money_conversion(money):\n",
    "    if money == \"N/A\":\n",
    "        return None\n",
    "    \n",
    "    if isinstance(money, list):\n",
    "        money = money[0]\n",
    "\n",
    "    word_syntax = re.search(word_re, money, flags=re.I)\n",
    "    value_syntax = re.search(value_re, money)\n",
    "\n",
    "    if word_syntax:\n",
    "        return parse_word_syntax(word_syntax.group())\n",
    "    \n",
    "    elif value_syntax:\n",
    "        return parse_value_syntax(value_syntax.group())\n",
    "    \n",
    "    else:\n",
    "        return None"
   ]
  },
  {
   "cell_type": "code",
   "execution_count": 15,
   "metadata": {},
   "outputs": [
    {
     "data": {
      "text/plain": [
       "'$70 million'"
      ]
     },
     "execution_count": 15,
     "metadata": {},
     "output_type": "execute_result"
    }
   ],
   "source": [
    "movie_info_list[-10].get(\"Budget\", \"N/A\")"
   ]
  },
  {
   "cell_type": "code",
   "execution_count": 16,
   "metadata": {},
   "outputs": [],
   "source": [
    "for movie in movie_info_list:\n",
    "    movie[\"Budget (float)\"] = money_conversion(movie.get(\"Budget\", \"N/A\"))\n",
    "    movie[\"Box_office (float)\"] = money_conversion(movie.get(\"Box office\", \"N/A\"))"
   ]
  },
  {
   "cell_type": "code",
   "execution_count": 17,
   "metadata": {},
   "outputs": [
    {
     "data": {
      "text/plain": [
       "70000000.0"
      ]
     },
     "execution_count": 17,
     "metadata": {},
     "output_type": "execute_result"
    }
   ],
   "source": [
    "movie_info_list[-10].get(\"Budget (float)\", \"N/A\")"
   ]
  },
  {
   "cell_type": "code",
   "execution_count": 32,
   "metadata": {},
   "outputs": [],
   "source": [
    "# Convert dates into datetimes\n",
    "\n",
    "from datetime import datetime\n",
    "\n",
    "def clean_date(date):\n",
    "    return date.split(\"(\")[0].strip()\n",
    "\n",
    "def date_conversion(date):\n",
    "\n",
    "    if isinstance(date, list):\n",
    "        date = date[0]\n",
    "\n",
    "    if date == \"N/A\":\n",
    "        return None\n",
    "    \n",
    "    date_str = clean_date(date)\n",
    "\n",
    "    frmts = [\"%B %d, %Y\", \"%d %B %Y\"]\n",
    "\n",
    "    for frmt in frmts:\n",
    "        try:\n",
    "            return datetime.strptime(date_str, frmt)\n",
    "        except:\n",
    "            pass\n",
    "    return None"
   ]
  },
  {
   "cell_type": "code",
   "execution_count": 35,
   "metadata": {},
   "outputs": [],
   "source": [
    "for movie in movie_info_list:\n",
    "    movie[\"Release_date (datetime)\"] = date_conversion(movie.get(\"Release date\", \"N/A\"))"
   ]
  },
  {
   "cell_type": "code",
   "execution_count": 37,
   "metadata": {},
   "outputs": [
    {
     "data": {
      "text/plain": [
       "{'title': 'Tiger',\n",
       " 'Directed by': ['Mark Linfield', 'Vanessa Berlowitz', 'Rob Sullivan'],\n",
       " 'Produced by': ['Mark Linfield', 'Vanessa Berlowitz', 'Roy Conli'],\n",
       " 'Narrated by': 'Priyanka Chopra',\n",
       " 'Cinematography': ['Martyn Colbeck',\n",
       "  'Mark MacEwen',\n",
       "  'Simon Niblett',\n",
       "  'Kalyan Varma',\n",
       "  'Tom Walker'],\n",
       " 'Music by': 'Nitin Sawhney',\n",
       " 'Production company': 'Disneynature',\n",
       " 'Distributed by': 'Disney+',\n",
       " 'Release date': ['April 22, 2024'],\n",
       " 'Running time': '90 minutes',\n",
       " 'Country': 'United States',\n",
       " 'Language': 'English',\n",
       " 'Running_time_int': 90,\n",
       " 'Budget (float)': None,\n",
       " 'Box_office (float)': None,\n",
       " 'Release_date (datetime)': datetime.datetime(2024, 4, 22, 0, 0)}"
      ]
     },
     "execution_count": 37,
     "metadata": {},
     "output_type": "execute_result"
    }
   ],
   "source": [
    "movie_info_list[-30]"
   ]
  },
  {
   "cell_type": "code",
   "execution_count": 3,
   "metadata": {},
   "outputs": [],
   "source": [
    "import pickle\n",
    "\n",
    "def save_data_pickle(name, data):\n",
    "    with open(name, \"wb\") as f:\n",
    "        return pickle.dump(data, f)\n",
    "    \n",
    "def load_data_pickle(name):\n",
    "    with open(name, \"rb\") as f:\n",
    "        return pickle.load(f)"
   ]
  },
  {
   "cell_type": "code",
   "execution_count": 41,
   "metadata": {},
   "outputs": [],
   "source": [
    "save_data_pickle(\"disney_data_cleaned_v2.pickle\", movie_info_list)"
   ]
  },
  {
   "cell_type": "markdown",
   "metadata": {},
   "source": [
    "### Attach IMDB/Rotten Tomatoes scores"
   ]
  },
  {
   "cell_type": "code",
   "execution_count": 8,
   "metadata": {},
   "outputs": [],
   "source": [
    "movie_info_list = load_data_pickle(\"disney_data_cleaned_v2.pickle\")"
   ]
  },
  {
   "cell_type": "code",
   "execution_count": 14,
   "metadata": {},
   "outputs": [],
   "source": [
    "import urllib.parse\n",
    "import requests\n",
    "import urllib\n",
    "import os\n",
    "\n",
    "def get_omdb_info(title):\n",
    "    base_url = \"http://www.omdbapi.com/?\"\n",
    "    parameters = {\"apikey\": os.environ[\"OMDB_API_KEY\"], \"t\":  title, \"type\": \"movie\"}\n",
    "    params_encoded = urllib.parse.urlencode(parameters)\n",
    "    full_url = base_url + params_encoded\n",
    "    return requests.get(full_url).json()\n",
    "\n",
    "def get_rotten_tomatoes_scores(omdb_info):\n",
    "    ratings = omdb_info.get(\"Ratings\", [])\n",
    "    for rating in ratings:\n",
    "        if rating[\"Source\"] == \"Rotten Tomatoes\":\n",
    "            return rating[\"Value\"]\n",
    "    \n",
    "    return None\n"
   ]
  },
  {
   "cell_type": "code",
   "execution_count": 12,
   "metadata": {},
   "outputs": [
    {
     "data": {
      "text/plain": [
       "{'Title': 'Tiger',\n",
       " 'Year': '2017',\n",
       " 'Rated': 'N/A',\n",
       " 'Released': '16 Jun 2017',\n",
       " 'Runtime': '155 min',\n",
       " 'Genre': 'Action, Drama, Thriller',\n",
       " 'Director': 'Nanda Kishore',\n",
       " 'Writer': 'Yoganandh Muddhan, Udhay Pottipadu, Tarun Sudhir',\n",
       " 'Actors': 'Pradeep Bogadi, Nyra Banerjee, K. Shivaram',\n",
       " 'Plot': 'Tiger is an action packed thriller film led by Pradeep who dreams to become a police officer which is against the wish of his father played by the well known actor and also a very famous Ex IAS officer K Shivram.',\n",
       " 'Language': 'Kannada',\n",
       " 'Country': 'India',\n",
       " 'Awards': 'N/A',\n",
       " 'Poster': 'https://m.media-amazon.com/images/M/MV5BMmVhNjNlZjQtOWYyMC00MzJjLThlM2ItYzhjZTI0NzI0OGRmXkEyXkFqcGdeQXVyMzU0ODc1MTQ@._V1_SX300.jpg',\n",
       " 'Ratings': [{'Source': 'Internet Movie Database', 'Value': '6.7/10'}],\n",
       " 'Metascore': 'N/A',\n",
       " 'imdbRating': '6.7',\n",
       " 'imdbVotes': '1,166',\n",
       " 'imdbID': 'tt5995602',\n",
       " 'Type': 'movie',\n",
       " 'DVD': 'N/A',\n",
       " 'BoxOffice': 'N/A',\n",
       " 'Production': 'N/A',\n",
       " 'Website': 'N/A',\n",
       " 'Response': 'True'}"
      ]
     },
     "execution_count": 12,
     "metadata": {},
     "output_type": "execute_result"
    }
   ],
   "source": [
    "get_omdb_info(\"Tiger\")"
   ]
  },
  {
   "cell_type": "code",
   "execution_count": null,
   "metadata": {},
   "outputs": [],
   "source": [
    "for index, movie in enumerate(movie_info_list):\n",
    "    if index % 10 == 0:\n",
    "        print(index)\n",
    "\n",
    "    title = movie[\"title\"]\n",
    "    omdb_info = get_omdb_info(title)\n",
    "    movie[\"imdb\"] = omdb_info.get(\"imdbRating\", \"None\")\n",
    "    movie[\"Metascore\"] = omdb_info.get(\"Metascore\", \"None\")\n",
    "    movie[\"Genre\"] = omdb_info.get(\"Genre\", \"None\")\n",
    "    movie[\"Plot\"] = omdb_info.get(\"Plot\", \"None\")\n",
    "    movie[\"rotten_tomatoes\"] = get_rotten_tomatoes_scores(omdb_info)"
   ]
  },
  {
   "cell_type": "code",
   "execution_count": 17,
   "metadata": {},
   "outputs": [],
   "source": [
    "save_data_pickle(\"disney_movie_data_final.pickle\", movie_info_list)"
   ]
  },
  {
   "cell_type": "markdown",
   "metadata": {},
   "source": [
    "### Save data as JSON/CSV"
   ]
  },
  {
   "cell_type": "code",
   "execution_count": null,
   "metadata": {},
   "outputs": [],
   "source": [
    "movie_info_list = load_data_pickle(\"disney_movie_data_final.pickle\")"
   ]
  },
  {
   "cell_type": "code",
   "execution_count": 19,
   "metadata": {},
   "outputs": [],
   "source": [
    "movie_info_copy = [movie.copy() for movie in movie_info_list]"
   ]
  },
  {
   "cell_type": "code",
   "execution_count": 20,
   "metadata": {},
   "outputs": [],
   "source": [
    "for movie in movie_info_copy:\n",
    "    current_date = movie[\"Release_date (datetime)\"]\n",
    "    if current_date:\n",
    "        movie[\"Release_date (datetime)\"] = current_date.strftime(\"%B %d, %Y\")\n",
    "    else:\n",
    "        movie[\"Release_date (datetime)\"] = None"
   ]
  },
  {
   "cell_type": "markdown",
   "metadata": {},
   "source": [
    "Save file as JSON"
   ]
  },
  {
   "cell_type": "code",
   "execution_count": 24,
   "metadata": {},
   "outputs": [],
   "source": [
    "save_data(\"disney_data_final.json\", movie_info_copy)"
   ]
  },
  {
   "cell_type": "markdown",
   "metadata": {},
   "source": [
    "Conver data to CSV"
   ]
  },
  {
   "cell_type": "code",
   "execution_count": 25,
   "metadata": {},
   "outputs": [],
   "source": [
    "import pandas as pd\n",
    "\n",
    "df = pd.DataFrame(movie_info_list)"
   ]
  },
  {
   "cell_type": "code",
   "execution_count": 26,
   "metadata": {},
   "outputs": [
    {
     "data": {
      "text/html": [
       "<div>\n",
       "<style scoped>\n",
       "    .dataframe tbody tr th:only-of-type {\n",
       "        vertical-align: middle;\n",
       "    }\n",
       "\n",
       "    .dataframe tbody tr th {\n",
       "        vertical-align: top;\n",
       "    }\n",
       "\n",
       "    .dataframe thead th {\n",
       "        text-align: right;\n",
       "    }\n",
       "</style>\n",
       "<table border=\"1\" class=\"dataframe\">\n",
       "  <thead>\n",
       "    <tr style=\"text-align: right;\">\n",
       "      <th></th>\n",
       "      <th>title</th>\n",
       "      <th>Directed by</th>\n",
       "      <th>Story by</th>\n",
       "      <th>Based on</th>\n",
       "      <th>Produced by</th>\n",
       "      <th>Music by</th>\n",
       "      <th>Production company</th>\n",
       "      <th>Distributed by</th>\n",
       "      <th>Release dates</th>\n",
       "      <th>Running time</th>\n",
       "      <th>...</th>\n",
       "      <th>Traditional Chinese</th>\n",
       "      <th>Simplified Chinese</th>\n",
       "      <th>Original title</th>\n",
       "      <th>Layouts by</th>\n",
       "      <th>Music</th>\n",
       "      <th>Lyrics</th>\n",
       "      <th>Book</th>\n",
       "      <th>Basis</th>\n",
       "      <th>Productions</th>\n",
       "      <th>Awards</th>\n",
       "    </tr>\n",
       "  </thead>\n",
       "  <tbody>\n",
       "    <tr>\n",
       "      <th>0</th>\n",
       "      <td>Snow White and the Seven Dwarfs</td>\n",
       "      <td>[Perce Pearce, William Cottrell, Larry Morey, ...</td>\n",
       "      <td>[Ted Sears, Richard Creedon, Otto Englander, D...</td>\n",
       "      <td>[\", Snow White, \", by the, Brothers Grimm]</td>\n",
       "      <td>Walt Disney</td>\n",
       "      <td>[Frank Churchill, Leigh Harline, Paul Smith]</td>\n",
       "      <td>Walt Disney Productions</td>\n",
       "      <td>RKO Radio Pictures</td>\n",
       "      <td>[December 21, 1937 ( Carthay Circle Theatre ),...</td>\n",
       "      <td>83 minutes</td>\n",
       "      <td>...</td>\n",
       "      <td>NaN</td>\n",
       "      <td>NaN</td>\n",
       "      <td>NaN</td>\n",
       "      <td>NaN</td>\n",
       "      <td>NaN</td>\n",
       "      <td>NaN</td>\n",
       "      <td>NaN</td>\n",
       "      <td>NaN</td>\n",
       "      <td>NaN</td>\n",
       "      <td>NaN</td>\n",
       "    </tr>\n",
       "    <tr>\n",
       "      <th>1</th>\n",
       "      <td>Pinocchio</td>\n",
       "      <td>[Ben Sharpsteen, Hamilton Luske, Bill Roberts,...</td>\n",
       "      <td>[Ted Sears, Otto Englander, Webb Smith, Willia...</td>\n",
       "      <td>[The Adventures of Pinocchio, by, Carlo Collodi]</td>\n",
       "      <td>Walt Disney</td>\n",
       "      <td>[Leigh Harline, Paul J. Smith]</td>\n",
       "      <td>Walt Disney Productions</td>\n",
       "      <td>RKO Radio Pictures</td>\n",
       "      <td>[February 7, 1940 ( Center Theatre ), February...</td>\n",
       "      <td>88 minutes</td>\n",
       "      <td>...</td>\n",
       "      <td>NaN</td>\n",
       "      <td>NaN</td>\n",
       "      <td>NaN</td>\n",
       "      <td>NaN</td>\n",
       "      <td>NaN</td>\n",
       "      <td>NaN</td>\n",
       "      <td>NaN</td>\n",
       "      <td>NaN</td>\n",
       "      <td>NaN</td>\n",
       "      <td>NaN</td>\n",
       "    </tr>\n",
       "    <tr>\n",
       "      <th>2</th>\n",
       "      <td>Fantasia</td>\n",
       "      <td>[Samuel Armstrong, James Algar, Bill Roberts, ...</td>\n",
       "      <td>[Joe Grant, Dick Huemer]</td>\n",
       "      <td>NaN</td>\n",
       "      <td>[Walt Disney, Ben Sharpsteen]</td>\n",
       "      <td>See plot</td>\n",
       "      <td>Walt Disney Productions</td>\n",
       "      <td>RKO Radio Pictures</td>\n",
       "      <td>NaN</td>\n",
       "      <td>126 minutes</td>\n",
       "      <td>...</td>\n",
       "      <td>NaN</td>\n",
       "      <td>NaN</td>\n",
       "      <td>NaN</td>\n",
       "      <td>NaN</td>\n",
       "      <td>NaN</td>\n",
       "      <td>NaN</td>\n",
       "      <td>NaN</td>\n",
       "      <td>NaN</td>\n",
       "      <td>NaN</td>\n",
       "      <td>NaN</td>\n",
       "    </tr>\n",
       "    <tr>\n",
       "      <th>3</th>\n",
       "      <td>The Reluctant Dragon</td>\n",
       "      <td>[Alfred Werker, (live action), Hamilton Luske,...</td>\n",
       "      <td>NaN</td>\n",
       "      <td>NaN</td>\n",
       "      <td>Walt Disney</td>\n",
       "      <td>[Frank Churchill, Larry Morey]</td>\n",
       "      <td>Walt Disney Productions</td>\n",
       "      <td>RKO Radio Pictures</td>\n",
       "      <td>NaN</td>\n",
       "      <td>74 minutes</td>\n",
       "      <td>...</td>\n",
       "      <td>NaN</td>\n",
       "      <td>NaN</td>\n",
       "      <td>NaN</td>\n",
       "      <td>NaN</td>\n",
       "      <td>NaN</td>\n",
       "      <td>NaN</td>\n",
       "      <td>NaN</td>\n",
       "      <td>NaN</td>\n",
       "      <td>NaN</td>\n",
       "      <td>NaN</td>\n",
       "    </tr>\n",
       "    <tr>\n",
       "      <th>4</th>\n",
       "      <td>Dumbo</td>\n",
       "      <td>[Ben Sharpsteen, Norman Ferguson, Wilfred Jack...</td>\n",
       "      <td>[Joe Grant, Dick Huemer]</td>\n",
       "      <td>[Dumbo, the Flying Elephant, by, Helen Aberson...</td>\n",
       "      <td>Walt Disney</td>\n",
       "      <td>[Frank Churchill, Oliver Wallace]</td>\n",
       "      <td>Walt Disney Productions</td>\n",
       "      <td>RKO Radio Pictures</td>\n",
       "      <td>[October 23, 1941 (New York City), October 31,...</td>\n",
       "      <td>64 minutes</td>\n",
       "      <td>...</td>\n",
       "      <td>NaN</td>\n",
       "      <td>NaN</td>\n",
       "      <td>NaN</td>\n",
       "      <td>NaN</td>\n",
       "      <td>NaN</td>\n",
       "      <td>NaN</td>\n",
       "      <td>NaN</td>\n",
       "      <td>NaN</td>\n",
       "      <td>NaN</td>\n",
       "      <td>NaN</td>\n",
       "    </tr>\n",
       "  </tbody>\n",
       "</table>\n",
       "<p>5 rows × 45 columns</p>\n",
       "</div>"
      ],
      "text/plain": [
       "                             title  \\\n",
       "0  Snow White and the Seven Dwarfs   \n",
       "1                        Pinocchio   \n",
       "2                         Fantasia   \n",
       "3             The Reluctant Dragon   \n",
       "4                            Dumbo   \n",
       "\n",
       "                                         Directed by  \\\n",
       "0  [Perce Pearce, William Cottrell, Larry Morey, ...   \n",
       "1  [Ben Sharpsteen, Hamilton Luske, Bill Roberts,...   \n",
       "2  [Samuel Armstrong, James Algar, Bill Roberts, ...   \n",
       "3  [Alfred Werker, (live action), Hamilton Luske,...   \n",
       "4  [Ben Sharpsteen, Norman Ferguson, Wilfred Jack...   \n",
       "\n",
       "                                            Story by  \\\n",
       "0  [Ted Sears, Richard Creedon, Otto Englander, D...   \n",
       "1  [Ted Sears, Otto Englander, Webb Smith, Willia...   \n",
       "2                           [Joe Grant, Dick Huemer]   \n",
       "3                                                NaN   \n",
       "4                           [Joe Grant, Dick Huemer]   \n",
       "\n",
       "                                            Based on  \\\n",
       "0         [\", Snow White, \", by the, Brothers Grimm]   \n",
       "1   [The Adventures of Pinocchio, by, Carlo Collodi]   \n",
       "2                                                NaN   \n",
       "3                                                NaN   \n",
       "4  [Dumbo, the Flying Elephant, by, Helen Aberson...   \n",
       "\n",
       "                     Produced by  \\\n",
       "0                    Walt Disney   \n",
       "1                    Walt Disney   \n",
       "2  [Walt Disney, Ben Sharpsteen]   \n",
       "3                    Walt Disney   \n",
       "4                    Walt Disney   \n",
       "\n",
       "                                       Music by       Production company  \\\n",
       "0  [Frank Churchill, Leigh Harline, Paul Smith]  Walt Disney Productions   \n",
       "1                [Leigh Harline, Paul J. Smith]  Walt Disney Productions   \n",
       "2                                      See plot  Walt Disney Productions   \n",
       "3                [Frank Churchill, Larry Morey]  Walt Disney Productions   \n",
       "4             [Frank Churchill, Oliver Wallace]  Walt Disney Productions   \n",
       "\n",
       "       Distributed by                                      Release dates  \\\n",
       "0  RKO Radio Pictures  [December 21, 1937 ( Carthay Circle Theatre ),...   \n",
       "1  RKO Radio Pictures  [February 7, 1940 ( Center Theatre ), February...   \n",
       "2  RKO Radio Pictures                                                NaN   \n",
       "3  RKO Radio Pictures                                                NaN   \n",
       "4  RKO Radio Pictures  [October 23, 1941 (New York City), October 31,...   \n",
       "\n",
       "  Running time  ... Traditional Chinese Simplified Chinese Original title  \\\n",
       "0   83 minutes  ...                 NaN                NaN            NaN   \n",
       "1   88 minutes  ...                 NaN                NaN            NaN   \n",
       "2  126 minutes  ...                 NaN                NaN            NaN   \n",
       "3   74 minutes  ...                 NaN                NaN            NaN   \n",
       "4   64 minutes  ...                 NaN                NaN            NaN   \n",
       "\n",
       "  Layouts by  Music  Lyrics  Book Basis Productions Awards  \n",
       "0        NaN    NaN     NaN   NaN   NaN         NaN    NaN  \n",
       "1        NaN    NaN     NaN   NaN   NaN         NaN    NaN  \n",
       "2        NaN    NaN     NaN   NaN   NaN         NaN    NaN  \n",
       "3        NaN    NaN     NaN   NaN   NaN         NaN    NaN  \n",
       "4        NaN    NaN     NaN   NaN   NaN         NaN    NaN  \n",
       "\n",
       "[5 rows x 45 columns]"
      ]
     },
     "execution_count": 26,
     "metadata": {},
     "output_type": "execute_result"
    }
   ],
   "source": [
    "df.head()"
   ]
  },
  {
   "cell_type": "code",
   "execution_count": 27,
   "metadata": {},
   "outputs": [],
   "source": [
    "df.to_csv(\"disney_data_final.csv\")"
   ]
  },
  {
   "cell_type": "code",
   "execution_count": null,
   "metadata": {},
   "outputs": [],
   "source": []
  }
 ],
 "metadata": {
  "kernelspec": {
   "display_name": "Python 3",
   "language": "python",
   "name": "python3"
  },
  "language_info": {
   "codemirror_mode": {
    "name": "ipython",
    "version": 3
   },
   "file_extension": ".py",
   "mimetype": "text/x-python",
   "name": "python",
   "nbconvert_exporter": "python",
   "pygments_lexer": "ipython3",
   "version": "3.12.4"
  }
 },
 "nbformat": 4,
 "nbformat_minor": 2
}
